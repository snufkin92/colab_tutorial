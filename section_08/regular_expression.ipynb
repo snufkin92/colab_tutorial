{
  "cells": [
    {
      "cell_type": "markdown",
      "metadata": {
        "id": "view-in-github",
        "colab_type": "text"
      },
      "source": [
        "<a href=\"https://colab.research.google.com/github/snufkin92/colab_tutorial/blob/master/section_08/regular_expression.ipynb\" target=\"_parent\"><img src=\"https://colab.research.google.com/assets/colab-badge.svg\" alt=\"Open In Colab\"/></a>"
      ]
    },
    {
      "cell_type": "markdown",
      "metadata": {
        "id": "-BgBGUnnsMFf"
      },
      "source": [
        "# Pythonにおける正規表現\n",
        "指定したパターンに一致する文字列を置換、抽出したい場合、正規表現がよく使われます。  \n",
        "今回は、自然言語処理において便利な正規表現をいくつか紹介します。  \n",
        "正規表現は、文章に前処理を行う際に活躍します。  "
      ]
    },
    {
      "cell_type": "markdown",
      "metadata": {
        "id": "vpvg7kFhsMFg"
      },
      "source": [
        "## subによる置換\n",
        "正規表現を使う際は、reをインポートします。  \n",
        "`re.sub`により、文字列の置換を行うことができます。"
      ]
    },
    {
      "cell_type": "code",
      "execution_count": 1,
      "metadata": {
        "colab": {
          "base_uri": "https://localhost:8080/"
        },
        "id": "l0Ze6X53sMFh",
        "outputId": "f8d2bd41-53ce-4172-9e7c-8dafa5a147ad"
      },
      "outputs": [
        {
          "output_type": "stream",
          "name": "stdout",
          "text": [
            "私はシャム猫が好きです。\n"
          ]
        }
      ],
      "source": [
        "import re\n",
        "\n",
        "s = \"私は柴犬が好きです。\"\n",
        "\n",
        "s = re.sub(\"柴犬\", \"シャム猫\", s)  # 文字列sの「柴犬」を「シャム猫」に置き換える\n",
        "print(s)"
      ]
    },
    {
      "cell_type": "markdown",
      "metadata": {
        "id": "cdWGaKjqsMFi"
      },
      "source": [
        "## 複数の文字の指定\n",
        "以下の例では、複数の文字を別の文字に置き換えています。"
      ]
    },
    {
      "cell_type": "code",
      "execution_count": 2,
      "metadata": {
        "colab": {
          "base_uri": "https://localhost:8080/"
        },
        "id": "ChbGw6cRsMFj",
        "outputId": "405d36e9-62e7-45eb-8a0e-f7e6f48d1dba"
      },
      "outputs": [
        {
          "output_type": "stream",
          "name": "stdout",
          "text": [
            "私は黒馬と白馬が好きです。\n"
          ]
        }
      ],
      "source": [
        "import re\n",
        "\n",
        "s = \"私は黒犬と白猫が好きです。\"\n",
        "\n",
        "s = re.sub(\"[犬猫]\", \"馬\", s)  # []内の各文字（「犬」、「猫」）を「馬」に置き換える\n",
        "print(s)"
      ]
    },
    {
      "cell_type": "markdown",
      "metadata": {
        "id": "JjKYBUM7sMFj"
      },
      "source": [
        "[ ]内の各文字を、特定の文字に置き換えることができます。"
      ]
    },
    {
      "cell_type": "markdown",
      "metadata": {
        "id": "qgfrpbfasMFj"
      },
      "source": [
        "## 否定\n",
        "以下の例では、ある特定の文字以外を置き換えています。"
      ]
    },
    {
      "cell_type": "code",
      "execution_count": 3,
      "metadata": {
        "colab": {
          "base_uri": "https://localhost:8080/"
        },
        "id": "8frkabHxsMFk",
        "outputId": "e9b808ec-ec42-4ecf-fbfa-cf893bf3a2fe"
      },
      "outputs": [
        {
          "output_type": "stream",
          "name": "stdout",
          "text": [
            "馬馬馬犬馬馬猫馬馬馬馬馬馬\n"
          ]
        }
      ],
      "source": [
        "import re\n",
        "\n",
        "s = \"私は黒犬と白猫が好きです。\"\n",
        "\n",
        "s = re.sub(\"[^犬猫]\", \"馬\", s)  # 「犬」、「猫」以外を「馬」に置き換える\n",
        "print(s)"
      ]
    },
    {
      "cell_type": "markdown",
      "metadata": {
        "id": "YYe7F43asMFk"
      },
      "source": [
        "^を使うことで、「犬」、「猫」以外の全ての文字が「馬」と入れ替わりました。"
      ]
    },
    {
      "cell_type": "markdown",
      "metadata": {
        "id": "4lsGxmEBsMFk"
      },
      "source": [
        "## 繰り返し\n",
        "以下の例では、\\+ の記号を使用することで文字の１回以上の繰り返しを表現しています。"
      ]
    },
    {
      "cell_type": "code",
      "execution_count": 4,
      "metadata": {
        "colab": {
          "base_uri": "https://localhost:8080/"
        },
        "id": "XnHNEGfOsMFl",
        "outputId": "67627e38-cf5d-472d-c144-652f079418b0"
      },
      "outputs": [
        {
          "output_type": "stream",
          "name": "stdout",
          "text": [
            "私は柴犬が好きです。\n"
          ]
        }
      ],
      "source": [
        "import re\n",
        "\n",
        "s = \"私は柴犬犬犬犬犬犬犬犬犬犬犬犬犬が好きです。\"\n",
        "\n",
        "s = re.sub(\"犬+\", \"犬\", s)  # 「犬」の繰り返しを「犬」に置き換える\n",
        "print(s)"
      ]
    },
    {
      "cell_type": "markdown",
      "metadata": {
        "id": "_mYuKpz6sMFl"
      },
      "source": [
        "「犬」の繰り返しを、「犬」に置き換えました。"
      ]
    },
    {
      "cell_type": "markdown",
      "metadata": {
        "id": "5blU13WZsMFm"
      },
      "source": [
        "## ルビの除去\n",
        "これまで学んできた正規表現のルールを組み合わせて、文字列からルビを除去します。"
      ]
    },
    {
      "cell_type": "code",
      "execution_count": 5,
      "metadata": {
        "colab": {
          "base_uri": "https://localhost:8080/"
        },
        "id": "yUXOkG1TsMFm",
        "outputId": "d121a998-8427-4c00-c188-b219dd8eb97b"
      },
      "outputs": [
        {
          "output_type": "stream",
          "name": "stdout",
          "text": [
            "私は柴犬とシャム猫が大好きです。\n"
          ]
        }
      ],
      "source": [
        "import re\n",
        "\n",
        "s = \"私は柴犬【しばいぬ】とシャム猫【しゃむねこ】が大好きです。\"\n",
        "\n",
        "s = re.sub(\"【[^】]+】\", \"\", s)  # 【と】の間に】以外の文字が複数ある箇所を、空の文字列に置き換える\n",
        "print(s)"
      ]
    },
    {
      "cell_type": "markdown",
      "metadata": {
        "id": "QCioNttMsMFm"
      },
      "source": [
        "`[^】]+`の箇所は、】以外の文字の繰り返しを意味します。  \n",
        "従って、`【[^】]+】`は【と】の間に】以外の文字が複数ある箇所を表します。"
      ]
    },
    {
      "cell_type": "markdown",
      "metadata": {
        "id": "8RwUC4pIsMFn"
      },
      "source": [
        "## 課題:\n",
        "以下のコードにおける文字列sから、正規表現を使ってルビを除去してみましょう。"
      ]
    },
    {
      "cell_type": "code",
      "execution_count": 6,
      "metadata": {
        "collapsed": true,
        "id": "Ts9Vun8NsMFn"
      },
      "outputs": [],
      "source": [
        "import re\n",
        "\n",
        "s = \"白馬【はくば】に乗って、草原【そうげん】を駆けるのが夢です。\""
      ]
    }
  ],
  "metadata": {
    "kernelspec": {
      "display_name": "Python 3",
      "language": "python",
      "name": "python3"
    },
    "language_info": {
      "codemirror_mode": {
        "name": "ipython",
        "version": 3
      },
      "file_extension": ".py",
      "mimetype": "text/x-python",
      "name": "python",
      "nbconvert_exporter": "python",
      "pygments_lexer": "ipython3",
      "version": "3.8.8"
    },
    "colab": {
      "provenance": [],
      "include_colab_link": true
    }
  },
  "nbformat": 4,
  "nbformat_minor": 0
}