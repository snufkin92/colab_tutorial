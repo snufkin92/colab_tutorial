{
  "cells": [
    {
      "cell_type": "markdown",
      "metadata": {
        "id": "view-in-github",
        "colab_type": "text"
      },
      "source": [
        "<a href=\"https://colab.research.google.com/github/snufkin92/colab_tutorial/blob/master/section_08/word_vector.ipynb\" target=\"_parent\"><img src=\"https://colab.research.google.com/assets/colab-badge.svg\" alt=\"Open In Colab\"/></a>"
      ]
    },
    {
      "cell_type": "markdown",
      "metadata": {
        "id": "IOUIIQiW9Xyx"
      },
      "source": [
        "# 単語間の演算\n",
        "単語ベクトルを使って、単語間の演算を行います。"
      ]
    },
    {
      "cell_type": "markdown",
      "metadata": {
        "id": "XsH77vUh9Xyy"
      },
      "source": [
        "## データの読み込み、及びword2vecによる学習\n",
        "これまでと同様に、データの読み込み及びword2vecによる学習を行います。"
      ]
    },
    {
      "cell_type": "code",
      "execution_count": null,
      "metadata": {
        "id": "ZE-orfTk9Xyy",
        "outputId": "dbbad348-80be-43e6-d407-0cf6a1b2fe66"
      },
      "outputs": [
        {
          "name": "stdout",
          "output_type": "stream",
          "text": [
            "[['吾輩', 'は', '猫', 'で', 'ある', '。'], ['名前', 'は', 'まだ', '無い', '。'], ['どこ', 'で', '生れ', 'た', 'か', 'とんと', '見当', 'が', 'つか', 'ぬ', '。'], ['何', 'でも', '薄暗い', 'じめじめ', 'し', 'た', '所', 'で', 'ニャーニャー', '泣い', 'て', 'いた事', 'だけ', 'は', '記憶', 'し', 'て', 'いる', '。'], ['吾輩', 'は', 'ここ', 'で', '始め', 'て', '人間', 'という', 'もの', 'を', '見', 'た', '。'], ['しかも', 'あと', 'で', '聞く', 'と', 'それ', 'は', '書生', 'という', '人間', '中', 'で', '一番', '獰悪', 'な', '種族', 'で', 'あっ', 'た', 'そう', 'だ', '。'], ['この', '書生', 'という', 'の', 'は', '時々', '我々', 'を', '捕え', 'て', '煮', 'て', '食う', 'という', '話', 'で', 'ある', '。'], ['しかし', 'その', '当時', 'は', '何', 'という', '考', 'も', 'なかっ', 'た', 'から', '別段', '恐し', 'いとも', '思わ', 'なかっ', 'た', '。'], ['ただ', '彼', 'の', '掌', 'に', '載せ', 'られ', 'て', 'スー', 'と', '持ち上げ', 'られ', 'た', '時', '何だか', 'フワフワ', 'し', 'た', '感じ', 'が', 'あっ', 'た', 'ばかり', 'で', 'ある', '。'], ['掌', 'の', '上', 'で', '少し', '落ちつい', 'て', '書生', 'の', '顔', 'を', '見', 'た', 'の', 'が', 'いわゆる', '人間', 'という', 'もの', 'の', '見', '始', 'で', 'あろ', 'う', '。']]\n"
          ]
        }
      ],
      "source": [
        "import pickle\n",
        "from gensim.models import word2vec\n",
        "\n",
        "with open('wagahai_words.pickle', mode='rb') as f:\n",
        "    wagahai_words = pickle.load(f)\n",
        "\n",
        "print(wagahai_words[:10])\n",
        "\n",
        "# size : 中間層のニューロン数\n",
        "# min_count : この値以下の出現回数の単語を無視\n",
        "# window : 対象単語を中心とした前後の単語数\n",
        "# iter : epochs数\n",
        "# sg : CBOWを使うかskip-gramを使うか 0:CBOW 1:skip-gram\n",
        "model = word2vec.Word2Vec(wagahai_words,\n",
        "                          vector_size=100,\n",
        "                          min_count=5,\n",
        "                          window=5,\n",
        "                          epochs=20,\n",
        "                          sg = 0)"
      ]
    },
    {
      "cell_type": "markdown",
      "metadata": {
        "id": "JZWMwoYP9Xyz"
      },
      "source": [
        "## 単語同士の演算\n",
        "word2vecにより、単語同士の足し算、引き算が可能になります。  \n",
        "以下は単語同士の演算の例ですが、単語のベクトル同士で演算が行われ、結果に最も近い単語が表示されます。"
      ]
    },
    {
      "cell_type": "code",
      "execution_count": null,
      "metadata": {
        "id": "d9sDJhYL9Xyz",
        "outputId": "057c7e60-4e20-47f0-8ac7-b5661993de16"
      },
      "outputs": [
        {
          "data": {
            "text/plain": [
              "[('智識', 0.7394311428070068),\n",
              " ('事実', 0.7355465888977051),\n",
              " ('君子', 0.7180730700492859),\n",
              " ('自覚', 0.7166944146156311),\n",
              " ('彼等', 0.7068431973457336),\n",
              " ('逆上', 0.6923908591270447),\n",
              " ('者', 0.6923704147338867),\n",
              " ('性質', 0.6923601031303406),\n",
              " ('世間', 0.6794255375862122),\n",
              " ('充分', 0.6780564188957214)]"
            ]
          },
          "execution_count": 2,
          "metadata": {},
          "output_type": "execute_result"
        }
      ],
      "source": [
        "# positiveは「足し合わせる」という意味\n",
        "model.wv.most_similar(positive=[\"猫\", \"人間\"])"
      ]
    },
    {
      "cell_type": "markdown",
      "metadata": {
        "id": "Vh4b6Il_9Xyz"
      },
      "source": [
        "positiveは足し合わせる単語のリストです。  \n",
        "従って、上記は\n",
        "**猫 + 人間**\n",
        "を計算しています。\n",
        "\n",
        "以下では、  \n",
        "**人間 + 猫 - 夢**  \n",
        "を演算しています。  "
      ]
    },
    {
      "cell_type": "code",
      "execution_count": null,
      "metadata": {
        "id": "Q1JRoVAZ9Xy0",
        "outputId": "da0b03e7-7377-4b16-e476-3151924327c3"
      },
      "outputs": [
        {
          "data": {
            "text/plain": [
              "[('教師', 0.6628442406654358),\n",
              " ('芸術', 0.6334997415542603),\n",
              " ('罪', 0.6077390313148499),\n",
              " ('出来る', 0.5993394255638123),\n",
              " ('智識', 0.5982522368431091),\n",
              " ('自覚', 0.5813170671463013),\n",
              " ('充分', 0.5628185272216797),\n",
              " ('君子', 0.5622528195381165),\n",
              " ('贅沢', 0.5512094497680664),\n",
              " ('たしか', 0.547397255897522)]"
            ]
          },
          "execution_count": 3,
          "metadata": {},
          "output_type": "execute_result"
        }
      ],
      "source": [
        "model.wv.most_similar(positive=[\"人間\", \"猫\"], negative=[\"夢\"])"
      ]
    },
    {
      "cell_type": "markdown",
      "metadata": {
        "id": "iwDfHxXw9Xy0"
      },
      "source": [
        "negativeは引く単語のリストです。"
      ]
    },
    {
      "cell_type": "markdown",
      "metadata": {
        "id": "iRVJtKxF9Xy0"
      },
      "source": [
        "## 課題:\n",
        "以下に示す単語同士の演算を行い、結果に最も近い単語を表示しましょう。  \n",
        "**教師 - 夢**"
      ]
    },
    {
      "cell_type": "code",
      "execution_count": null,
      "metadata": {
        "id": "6uYoUPaJ9Xy1",
        "outputId": "bc77ec5b-168f-40c2-c781-dd2c2669e16f"
      },
      "outputs": [
        {
          "data": {
            "text/plain": [
              "[('なさい', 0.24670791625976562),\n",
              " ('って', 0.22517457604408264),\n",
              " ('さあ', 0.2106168568134308),\n",
              " ('ましょ', 0.19785848259925842),\n",
              " ('とか', 0.18856537342071533),\n",
              " ('それから', 0.18608099222183228),\n",
              " ('まし', 0.16734939813613892),\n",
              " ('御覧', 0.16721537709236145),\n",
              " ('ながら', 0.16311480104923248),\n",
              " ('たら', 0.1491229236125946)]"
            ]
          },
          "execution_count": 4,
          "metadata": {},
          "output_type": "execute_result"
        }
      ],
      "source": [
        "model.wv.most_similar(negative=[\"教師\", \"夢\"])"
      ]
    }
  ],
  "metadata": {
    "kernelspec": {
      "display_name": "Python 3 (ipykernel)",
      "language": "python",
      "name": "python3"
    },
    "language_info": {
      "codemirror_mode": {
        "name": "ipython",
        "version": 3
      },
      "file_extension": ".py",
      "mimetype": "text/x-python",
      "name": "python",
      "nbconvert_exporter": "python",
      "pygments_lexer": "ipython3",
      "version": "3.9.17"
    },
    "colab": {
      "provenance": [],
      "include_colab_link": true
    }
  },
  "nbformat": 4,
  "nbformat_minor": 0
}