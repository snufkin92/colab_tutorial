{
  "nbformat": 4,
  "nbformat_minor": 0,
  "metadata": {
    "colab": {
      "provenance": [],
      "gpuType": "V28",
      "include_colab_link": true
    },
    "kernelspec": {
      "name": "python3",
      "display_name": "Python 3"
    },
    "accelerator": "TPU"
  },
  "cells": [
    {
      "cell_type": "markdown",
      "metadata": {
        "id": "view-in-github",
        "colab_type": "text"
      },
      "source": [
        "<a href=\"https://colab.research.google.com/github/snufkin92/colab_tutorial/blob/master/section_04/exercises.ipynb\" target=\"_parent\"><img src=\"https://colab.research.google.com/assets/colab-badge.svg\" alt=\"Open In Colab\"/></a>"
      ]
    },
    {
      "cell_type": "markdown",
      "metadata": {
        "id": "hhIoNQe4a84i"
      },
      "source": [
        "# 演習\n",
        "Kerasを使って、ディープラーニングのモデルを構築します。  \n",
        "今回もIrisの分類を行います。  \n",
        "指定した通りに、セルにPythonのコードを記述しましょう。"
      ]
    },
    {
      "cell_type": "markdown",
      "metadata": {
        "id": "B-ECLOtv89nP"
      },
      "source": [
        "## データの準備\n",
        "最初に、以下のセルを実行しましょう。  \n",
        "ただし、コードは変更しないでください。"
      ]
    },
    {
      "cell_type": "code",
      "metadata": {
        "id": "CyzqJCBE3if_"
      },
      "source": [
        "import numpy as np\n",
        "from sklearn import datasets\n",
        "from sklearn import preprocessing\n",
        "from sklearn.model_selection import train_test_split\n",
        "# from keras.utils import np_utils\n",
        "from tensorflow.keras.utils import to_categorical\n",
        "\n",
        "iris = datasets.load_iris()\n",
        "\n",
        "scaler = preprocessing.StandardScaler()\n",
        "scaler.fit(iris.data)\n",
        "\n",
        "x = scaler.transform(iris.data)\n",
        "# t = np_utils.to_categorical(iris.target)\n",
        "t = to_categorical(iris.target)\n",
        "\n",
        "x_train, x_test, t_train, t_test = train_test_split(x, t, train_size=0.75)"
      ],
      "execution_count": 1,
      "outputs": []
    },
    {
      "cell_type": "markdown",
      "metadata": {
        "id": "seSnEh1h81_O"
      },
      "source": [
        "## モデルの構築\n",
        "`mode.summary()`により以下の結果が表示されるモデルを構築しましょう。\n",
        "\n",
        "$$\n",
        "_________________________________________________________________\n",
        "Layer (type)                 Output Shape              Param #   \n",
        "=================================================================\n",
        "dense_1 (Dense)              (None, 16)                80        \n",
        "_________________________________________________________________\n",
        "activation_1 (Activation)    (None, 16)                0         \n",
        "_________________________________________________________________\n",
        "dense_2 (Dense)              (None, 16)                272       \n",
        "_________________________________________________________________\n",
        "activation_2 (Activation)    (None, 16)                0         \n",
        "_________________________________________________________________\n",
        "dense_3 (Dense)              (None, 3)                 51        \n",
        "_________________________________________________________________\n",
        "activation_3 (Activation)    (None, 3)                 0         \n",
        "=================================================================\n",
        "Total params: 403\n",
        "Trainable params: 403\n",
        "Non-trainable params: 0\n",
        "_________________________________________________________________\n",
        "None\n",
        "$$\n",
        "\n",
        "以下のセルの、指定した箇所にコードを追記してください。"
      ]
    },
    {
      "cell_type": "code",
      "metadata": {
        "id": "h2D07ONQ82Sf",
        "colab": {
          "base_uri": "https://localhost:8080/"
        },
        "outputId": "908feccc-90a7-41cf-be17-c1992c868d7d"
      },
      "source": [
        "from keras.models import Sequential\n",
        "from keras.layers import Dense, Activation\n",
        "\n",
        "model = Sequential()\n",
        "# --- ここからコードを書く ---\n",
        "model.add(Dense(16, input_dim=4))\n",
        "model.add(Activation('relu'))\n",
        "model.add(Dense(16))\n",
        "model.add(Activation('relu'))\n",
        "# --- ここまで ---\n",
        "\n",
        "\n",
        "\n",
        "\n",
        "# --- ここまで ---\n",
        "model.add(Dense(3))\n",
        "model.add(Activation('softmax'))\n",
        "model.compile(optimizer='sgd',loss='categorical_crossentropy',metrics=['accuracy']) # モデルのコンパイル\n",
        "\n",
        "print(model.summary())"
      ],
      "execution_count": 2,
      "outputs": [
        {
          "output_type": "stream",
          "name": "stdout",
          "text": [
            "Model: \"sequential\"\n",
            "_________________________________________________________________\n",
            " Layer (type)                Output Shape              Param #   \n",
            "=================================================================\n",
            " dense (Dense)               (None, 16)                80        \n",
            "                                                                 \n",
            " activation (Activation)     (None, 16)                0         \n",
            "                                                                 \n",
            " dense_1 (Dense)             (None, 16)                272       \n",
            "                                                                 \n",
            " activation_1 (Activation)   (None, 16)                0         \n",
            "                                                                 \n",
            " dense_2 (Dense)             (None, 3)                 51        \n",
            "                                                                 \n",
            " activation_2 (Activation)   (None, 3)                 0         \n",
            "                                                                 \n",
            "=================================================================\n",
            "Total params: 403 (1.57 KB)\n",
            "Trainable params: 403 (1.57 KB)\n",
            "Non-trainable params: 0 (0.00 Byte)\n",
            "_________________________________________________________________\n",
            "None\n"
          ]
        }
      ]
    },
    {
      "cell_type": "markdown",
      "metadata": {
        "id": "fe0ayRSi_I9t"
      },
      "source": [
        "## 学習\n",
        "構築したモデルを訓練しましょう。"
      ]
    },
    {
      "cell_type": "code",
      "metadata": {
        "id": "9GFCnKqR_Qpj",
        "colab": {
          "base_uri": "https://localhost:8080/"
        },
        "outputId": "5cd350ba-0ade-4194-8867-0b4a20212fad"
      },
      "source": [
        "history = model.fit(x_train, t_train, epochs=30, batch_size=8)"
      ],
      "execution_count": 3,
      "outputs": [
        {
          "output_type": "stream",
          "name": "stdout",
          "text": [
            "Epoch 1/30\n",
            "14/14 [==============================] - 0s 2ms/step - loss: 1.2246 - accuracy: 0.2589\n",
            "Epoch 2/30\n",
            "14/14 [==============================] - 0s 2ms/step - loss: 1.1561 - accuracy: 0.2679\n",
            "Epoch 3/30\n",
            "14/14 [==============================] - 0s 2ms/step - loss: 1.0987 - accuracy: 0.3125\n",
            "Epoch 4/30\n",
            "14/14 [==============================] - 0s 2ms/step - loss: 1.0504 - accuracy: 0.3750\n",
            "Epoch 5/30\n",
            "14/14 [==============================] - 0s 2ms/step - loss: 1.0101 - accuracy: 0.5446\n",
            "Epoch 6/30\n",
            "14/14 [==============================] - 0s 2ms/step - loss: 0.9730 - accuracy: 0.6161\n",
            "Epoch 7/30\n",
            "14/14 [==============================] - 0s 2ms/step - loss: 0.9374 - accuracy: 0.6161\n",
            "Epoch 8/30\n",
            "14/14 [==============================] - 0s 2ms/step - loss: 0.9048 - accuracy: 0.6071\n",
            "Epoch 9/30\n",
            "14/14 [==============================] - 0s 2ms/step - loss: 0.8735 - accuracy: 0.6161\n",
            "Epoch 10/30\n",
            "14/14 [==============================] - 0s 2ms/step - loss: 0.8405 - accuracy: 0.6339\n",
            "Epoch 11/30\n",
            "14/14 [==============================] - 0s 2ms/step - loss: 0.8069 - accuracy: 0.6429\n",
            "Epoch 12/30\n",
            "14/14 [==============================] - 0s 2ms/step - loss: 0.7748 - accuracy: 0.6518\n",
            "Epoch 13/30\n",
            "14/14 [==============================] - 0s 2ms/step - loss: 0.7422 - accuracy: 0.6696\n",
            "Epoch 14/30\n",
            "14/14 [==============================] - 0s 2ms/step - loss: 0.7115 - accuracy: 0.6875\n",
            "Epoch 15/30\n",
            "14/14 [==============================] - 0s 2ms/step - loss: 0.6816 - accuracy: 0.7054\n",
            "Epoch 16/30\n",
            "14/14 [==============================] - 0s 2ms/step - loss: 0.6541 - accuracy: 0.7232\n",
            "Epoch 17/30\n",
            "14/14 [==============================] - 0s 2ms/step - loss: 0.6285 - accuracy: 0.7232\n",
            "Epoch 18/30\n",
            "14/14 [==============================] - 0s 2ms/step - loss: 0.6053 - accuracy: 0.7232\n",
            "Epoch 19/30\n",
            "14/14 [==============================] - 0s 2ms/step - loss: 0.5842 - accuracy: 0.7321\n",
            "Epoch 20/30\n",
            "14/14 [==============================] - 0s 2ms/step - loss: 0.5642 - accuracy: 0.7500\n",
            "Epoch 21/30\n",
            "14/14 [==============================] - 0s 2ms/step - loss: 0.5453 - accuracy: 0.7679\n",
            "Epoch 22/30\n",
            "14/14 [==============================] - 0s 2ms/step - loss: 0.5281 - accuracy: 0.7768\n",
            "Epoch 23/30\n",
            "14/14 [==============================] - 0s 2ms/step - loss: 0.5120 - accuracy: 0.7768\n",
            "Epoch 24/30\n",
            "14/14 [==============================] - 0s 2ms/step - loss: 0.4968 - accuracy: 0.7768\n",
            "Epoch 25/30\n",
            "14/14 [==============================] - 0s 2ms/step - loss: 0.4834 - accuracy: 0.7857\n",
            "Epoch 26/30\n",
            "14/14 [==============================] - 0s 2ms/step - loss: 0.4700 - accuracy: 0.8036\n",
            "Epoch 27/30\n",
            "14/14 [==============================] - 0s 2ms/step - loss: 0.4577 - accuracy: 0.8304\n",
            "Epoch 28/30\n",
            "14/14 [==============================] - 0s 2ms/step - loss: 0.4460 - accuracy: 0.8393\n",
            "Epoch 29/30\n",
            "14/14 [==============================] - 0s 2ms/step - loss: 0.4351 - accuracy: 0.8482\n",
            "Epoch 30/30\n",
            "14/14 [==============================] - 0s 2ms/step - loss: 0.4246 - accuracy: 0.8482\n"
          ]
        }
      ]
    },
    {
      "cell_type": "markdown",
      "metadata": {
        "id": "A29cxq1qGYq2"
      },
      "source": [
        "## 学習の推移\n",
        "学習が問題なく行われたことを確認するために、学習の推移を見ましょう。"
      ]
    },
    {
      "cell_type": "code",
      "metadata": {
        "id": "bL97UMnRGY9V",
        "colab": {
          "base_uri": "https://localhost:8080/",
          "height": 450
        },
        "outputId": "a4a9fbd2-021c-4cd3-8d29-47a9b6b24cc7"
      },
      "source": [
        "import matplotlib.pyplot as plt\n",
        "\n",
        "hist_loss = history.history['loss']  # 訓練用データの誤差\n",
        "hist_acc = history.history['accuracy']  # 検証用データの誤差\n",
        "\n",
        "plt.plot(np.arange(len(hist_loss)), hist_loss, label='loss')\n",
        "plt.plot(np.arange(len(hist_acc)), hist_acc, label='accuracy')\n",
        "plt.legend()\n",
        "plt.show()"
      ],
      "execution_count": 4,
      "outputs": [
        {
          "output_type": "display_data",
          "data": {
            "text/plain": [
              "<Figure size 640x480 with 1 Axes>"
            ],
            "image/png": "[encoded data removed]"
          },
          "metadata": {}
        }
      ]
    },
    {
      "cell_type": "markdown",
      "metadata": {
        "id": "0bKt6ksiBewH"
      },
      "source": [
        "## 評価\n",
        "モデルの評価を行いましょう。"
      ]
    },
    {
      "cell_type": "code",
      "metadata": {
        "id": "jTsGsQoQCdhe",
        "colab": {
          "base_uri": "https://localhost:8080/"
        },
        "outputId": "2b4d524a-fc8f-4122-d438-a48f8cd24b4c"
      },
      "source": [
        "loss, accuracy = model.evaluate(x_test, t_test)\n",
        "print(loss, accuracy)"
      ],
      "execution_count": 5,
      "outputs": [
        {
          "output_type": "stream",
          "name": "stdout",
          "text": [
            "2/2 [==============================] - 0s 5ms/step - loss: 0.4014 - accuracy: 0.8158\n",
            "0.4013659954071045 0.8157894611358643\n"
          ]
        }
      ]
    },
    {
      "cell_type": "markdown",
      "metadata": {
        "id": "5ewSyftmChON"
      },
      "source": [
        "## 予測\n",
        "学習済みのモデルを使って、予測を行いましょう。  "
      ]
    },
    {
      "cell_type": "code",
      "metadata": {
        "id": "nIURso4FDPKt",
        "colab": {
          "base_uri": "https://localhost:8080/"
        },
        "outputId": "62964c81-fc4d-4fc2-c0ea-d6b3de06e0a8"
      },
      "source": [
        "model.predict(x_test)"
      ],
      "execution_count": 6,
      "outputs": [
        {
          "output_type": "stream",
          "name": "stdout",
          "text": [
            "2/2 [==============================] - 0s 3ms/step\n"
          ]
        },
        {
          "output_type": "execute_result",
          "data": {
            "text/plain": [
              "array([[0.08728348, 0.34581634, 0.56690013],\n",
              "       [0.95669335, 0.03350845, 0.00979825],\n",
              "       [0.0813328 , 0.33756614, 0.5811011 ],\n",
              "       [0.04107723, 0.23487617, 0.72404665],\n",
              "       [0.01182154, 0.12101592, 0.8671626 ],\n",
              "       [0.04468201, 0.21209455, 0.7432235 ],\n",
              "       [0.01885906, 0.15749471, 0.8236463 ],\n",
              "       [0.60492563, 0.2805128 , 0.11456141],\n",
              "       [0.35122383, 0.43799675, 0.21077949],\n",
              "       [0.95750016, 0.03284559, 0.00965434],\n",
              "       [0.7886761 , 0.15501194, 0.05631202],\n",
              "       [0.0063081 , 0.06538204, 0.92830986],\n",
              "       [0.05921205, 0.29373813, 0.64704984],\n",
              "       [0.81202495, 0.13859904, 0.049376  ],\n",
              "       [0.928226  , 0.05470956, 0.01706435],\n",
              "       [0.02893743, 0.19871365, 0.7723489 ],\n",
              "       [0.06870499, 0.30126828, 0.63002676],\n",
              "       [0.01852041, 0.15051924, 0.8309604 ],\n",
              "       [0.88426507, 0.08817258, 0.02756227],\n",
              "       [0.01570489, 0.13684614, 0.847449  ],\n",
              "       [0.84503514, 0.1166032 , 0.03836165],\n",
              "       [0.00301677, 0.05432735, 0.94265586],\n",
              "       [0.12883636, 0.41166762, 0.459496  ],\n",
              "       [0.00289913, 0.04310255, 0.95399827],\n",
              "       [0.7730851 , 0.16727029, 0.05964454],\n",
              "       [0.00513043, 0.07328793, 0.9215815 ],\n",
              "       [0.22797658, 0.47368467, 0.29833874],\n",
              "       [0.09364035, 0.367763  , 0.53859663],\n",
              "       [0.9380756 , 0.0476058 , 0.01431861],\n",
              "       [0.8111176 , 0.14067449, 0.04820782],\n",
              "       [0.06254236, 0.283282  , 0.6541756 ],\n",
              "       [0.8863159 , 0.08601387, 0.02767031],\n",
              "       [0.21030852, 0.44982758, 0.33986393],\n",
              "       [0.01525951, 0.14394143, 0.84079903],\n",
              "       [0.92799693, 0.05497979, 0.01702327],\n",
              "       [0.01475228, 0.12397488, 0.8612729 ],\n",
              "       [0.23519227, 0.45020902, 0.31459874],\n",
              "       [0.01286723, 0.12710857, 0.8600242 ]], dtype=float32)"
            ]
          },
          "metadata": {},
          "execution_count": 6
        }
      ]
    },
    {
      "cell_type": "markdown",
      "metadata": {
        "id": "UYDFfPrzIVQ4"
      },
      "source": [
        "# 解答例\n",
        "以下は解答例です。  \n",
        "どうしてもわからない時のみ、参考にしましょう。"
      ]
    },
    {
      "cell_type": "code",
      "metadata": {
        "id": "9bfmNLLYIW7m"
      },
      "source": [
        "# --- ここからコードを書く ---\n",
        "model.add(Dense(16, input_dim=4))\n",
        "model.add(Activation('relu'))\n",
        "model.add(Dense(16))\n",
        "model.add(Activation('relu'))\n",
        "# --- ここまで ---"
      ],
      "execution_count": 7,
      "outputs": []
    }
  ]
}