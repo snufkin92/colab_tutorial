{
  "nbformat": 4,
  "nbformat_minor": 0,
  "metadata": {
    "colab": {
      "provenance": [],
      "gpuType": "T4",
      "include_colab_link": true
    },
    "kernelspec": {
      "name": "python3",
      "display_name": "Python 3"
    },
    "accelerator": "GPU"
  },
  "cells": [
    {
      "cell_type": "markdown",
      "metadata": {
        "id": "view-in-github",
        "colab_type": "text"
      },
      "source": [
        "<a href=\"https://colab.research.google.com/github/snufkin92/colab_tutorial/blob/master/section_07/convolution.ipynb\" target=\"_parent\"><img src=\"https://colab.research.google.com/assets/colab-badge.svg\" alt=\"Open In Colab\"/></a>"
      ]
    },
    {
      "cell_type": "markdown",
      "metadata": {
        "id": "pKGUU1icSTR3"
      },
      "source": [
        "# 畳み込みの実装\n",
        "im2colを使って畳み込みを実装します。"
      ]
    },
    {
      "cell_type": "markdown",
      "metadata": {
        "id": "ocUoWS6bShyv"
      },
      "source": [
        "## ●im2colの実装\n",
        "im2colにより、フィルタの形状に合わせて画像を行列に変換します。  \n",
        "この行列に変換された画像と、同じく行列に変換されたフィルタの行列積により、畳み込みを行うことができます。  \n",
        "以下は、チャンネル数が1、バッチサイズが1、パディングなしでストライドが1の場合のシンプルなim2colのコードです。"
      ]
    },
    {
      "cell_type": "code",
      "metadata": {
        "id": "AiC1mlvkSQ_r"
      },
      "source": [
        "import numpy as np\n",
        "\n",
        "def im2col(img, flt_h, flt_w):  # 入力画像、フィルタの高さ、幅\n",
        "\n",
        "    img_h, img_w = img.shape  # 入力画像の高さ、幅\n",
        "    out_h = img_h - flt_h + 1  # 出力画像の高さ（パディング無し、ストライド1）\n",
        "    out_w = img_w - flt_w + 1  # 出力画像の幅（パディング無し、ストライド1）\n",
        "\n",
        "    cols = np.zeros((flt_h*flt_w, out_h*out_w)) # 生成される行列のサイズ（各要素はゼロで初期化）\n",
        "\n",
        "    # 畳み込み後の出力の行数分ループ\n",
        "    # h, h_lim, w, w_limでフィルターの座標を表現\n",
        "    for h in range(out_h):\n",
        "        h_lim = h + flt_h  # h:フィルタがかかる領域の上端、h_lim:フィルタがかかる領域の下端\n",
        "\n",
        "        # 畳み込み後の出力の列数分ループ\n",
        "        for w in range(out_w):\n",
        "            w_lim = w + flt_w  # w:フィルタがかかる領域の左端、w_lim:フィルタがかかる領域の右端\n",
        "\n",
        "            # h*out_w+w列にreshapeした値で置換\n",
        "            cols[:, h*out_w+w] = img[h:h_lim, w:w_lim].reshape(-1)\n",
        "\n",
        "    return cols"
      ],
      "execution_count": 33,
      "outputs": []
    },
    {
      "cell_type": "code",
      "source": [
        "img = np.array([[1, 2, 3, 4],  # 入力画像\n",
        "                [5, 6, 7, 8],\n",
        "                [9, 10,11,12],\n",
        "                [13,14,15,16]])\n",
        "\n",
        "img_h, img_w = img.shape  # 入力画像の高さ、幅\n",
        "print(img_h, img_w)\n",
        "\n",
        "# フィルタは2×2による畳み込み後の出力サイズは3×3\n",
        "out_h = img_h - 2 + 1  # 出力画像の高さ（パディング無し、ストライド1）\n",
        "out_w = img_w - 2 + 1  # 出力画像の幅（パディング無し、ストライド1）\n",
        "\n",
        "print(out_h, out_w)"
      ],
      "metadata": {
        "colab": {
          "base_uri": "https://localhost:8080/"
        },
        "id": "PJVUOWVQhz80",
        "outputId": "a204b303-7842-44ec-9530-ef3abdce6939"
      },
      "execution_count": 34,
      "outputs": [
        {
          "output_type": "stream",
          "name": "stdout",
          "text": [
            "4 4\n",
            "3 3\n"
          ]
        }
      ]
    },
    {
      "cell_type": "code",
      "source": [
        "# 畳み込み後の出力の行数分ループ\n",
        "flt_h=2\n",
        "flt_w=2\n",
        "cols = np.zeros((flt_h*flt_w, out_h*out_w)) # 生成される行列のサイズ（各要素はゼロで初期化）\n",
        "print(cols)\n",
        "\n",
        "for h in range(out_h):\n",
        "    h_lim = h + flt_h  # h:フィルタがかかる領域の上端、h_lim:フィルタがかかる領域の下端\n",
        "\n",
        "    # 畳み込み後の出力の列数分ループ\n",
        "    for w in range(out_w):\n",
        "        w_lim = w + flt_w  # w:フィルタがかかる領域の左端、w_lim:フィルタがかかる領域の右端\n",
        "        cols[:, h*out_w+w] = img[h:h_lim, w:w_lim].reshape(-1)\n",
        "\n",
        "        print(f\"h={h}, h_lim={h_lim}, w={w}, w_lim={w_lim}, {cols[:, h*out_w+w]}\")\n",
        "        if h==w:\n",
        "          print(cols)"
      ],
      "metadata": {
        "colab": {
          "base_uri": "https://localhost:8080/"
        },
        "id": "WzNUQM7yj7TH",
        "outputId": "e9f6f532-0f30-4cde-b752-28ca11e853cf"
      },
      "execution_count": 35,
      "outputs": [
        {
          "output_type": "stream",
          "name": "stdout",
          "text": [
            "[[0. 0. 0. 0. 0. 0. 0. 0. 0.]\n",
            " [0. 0. 0. 0. 0. 0. 0. 0. 0.]\n",
            " [0. 0. 0. 0. 0. 0. 0. 0. 0.]\n",
            " [0. 0. 0. 0. 0. 0. 0. 0. 0.]]\n",
            "h=0, h_lim=2, w=0, w_lim=2, [1. 2. 5. 6.]\n",
            "[[1. 0. 0. 0. 0. 0. 0. 0. 0.]\n",
            " [2. 0. 0. 0. 0. 0. 0. 0. 0.]\n",
            " [5. 0. 0. 0. 0. 0. 0. 0. 0.]\n",
            " [6. 0. 0. 0. 0. 0. 0. 0. 0.]]\n",
            "h=0, h_lim=2, w=1, w_lim=3, [2. 3. 6. 7.]\n",
            "h=0, h_lim=2, w=2, w_lim=4, [3. 4. 7. 8.]\n",
            "h=1, h_lim=3, w=0, w_lim=2, [ 5.  6.  9. 10.]\n",
            "h=1, h_lim=3, w=1, w_lim=3, [ 6.  7. 10. 11.]\n",
            "[[ 1.  2.  3.  5.  6.  0.  0.  0.  0.]\n",
            " [ 2.  3.  4.  6.  7.  0.  0.  0.  0.]\n",
            " [ 5.  6.  7.  9. 10.  0.  0.  0.  0.]\n",
            " [ 6.  7.  8. 10. 11.  0.  0.  0.  0.]]\n",
            "h=1, h_lim=3, w=2, w_lim=4, [ 7.  8. 11. 12.]\n",
            "h=2, h_lim=4, w=0, w_lim=2, [ 9. 10. 13. 14.]\n",
            "h=2, h_lim=4, w=1, w_lim=3, [10. 11. 14. 15.]\n",
            "h=2, h_lim=4, w=2, w_lim=4, [11. 12. 15. 16.]\n",
            "[[ 1.  2.  3.  5.  6.  7.  9. 10. 11.]\n",
            " [ 2.  3.  4.  6.  7.  8. 10. 11. 12.]\n",
            " [ 5.  6.  7.  9. 10. 11. 13. 14. 15.]\n",
            " [ 6.  7.  8. 10. 11. 12. 14. 15. 16.]]\n"
          ]
        }
      ]
    },
    {
      "cell_type": "markdown",
      "metadata": {
        "id": "Tkt9tHkxnqL9"
      },
      "source": [
        "im2colを使って、画像を行列に変換します。"
      ]
    },
    {
      "cell_type": "code",
      "metadata": {
        "id": "zQGKykMzWqwV",
        "colab": {
          "base_uri": "https://localhost:8080/"
        },
        "outputId": "79cfca1b-88d5-4ef3-a7be-1090c113c468"
      },
      "source": [
        "img = np.array([[1, 2, 3, 4],  # 入力画像\n",
        "                [5, 6, 7, 8],\n",
        "                [9, 10,11,12],\n",
        "                [13,14,15,16]])\n",
        "\n",
        "cols = im2col(img, 2, 2)  # 入力画像と、フィルタの高さ、幅を渡す\n",
        "print(cols)"
      ],
      "execution_count": 36,
      "outputs": [
        {
          "output_type": "stream",
          "name": "stdout",
          "text": [
            "[[ 1.  2.  3.  5.  6.  7.  9. 10. 11.]\n",
            " [ 2.  3.  4.  6.  7.  8. 10. 11. 12.]\n",
            " [ 5.  6.  7.  9. 10. 11. 13. 14. 15.]\n",
            " [ 6.  7.  8. 10. 11. 12. 14. 15. 16.]]\n"
          ]
        }
      ]
    },
    {
      "cell_type": "markdown",
      "metadata": {
        "id": "9d2-JA8WWRg7"
      },
      "source": [
        "なお、実際には、様々なバッチサイズ、チャンネル数、パディング幅、ストライドに対応し、forによる繰り返しを最小化した以下ようなim2colのコードが使用されます。  "
      ]
    },
    {
      "cell_type": "code",
      "metadata": {
        "id": "MA_hww_to8WC"
      },
      "source": [
        "def im2col(images, flt_h, flt_w, stride, pad):\n",
        "\n",
        "    n_bt, n_ch, img_h, img_w = images.shape\n",
        "    out_h = (img_h - flt_h + 2*pad) // stride + 1  # 出力画像の高さ\n",
        "    out_w = (img_w - flt_w + 2*pad) // stride + 1  # 出力画像の幅\n",
        "\n",
        "    img_pad = np.pad(images, [(0,0), (0,0), (pad, pad), (pad, pad)], \"constant\")\n",
        "    cols = np.zeros((n_bt, n_ch, flt_h, flt_w, out_h, out_w))\n",
        "\n",
        "    for h in range(flt_h):\n",
        "        h_lim = h + stride*out_h\n",
        "        for w in range(flt_w):\n",
        "            w_lim = w + stride*out_w\n",
        "            cols[:, :, h, w, :, :] = img_pad[:, :, h:h_lim:stride, w:w_lim:stride]\n",
        "\n",
        "    cols = cols.transpose(1, 2, 3, 0, 4, 5).reshape(n_ch*flt_h*flt_w, n_bt*out_h*out_w)\n",
        "    return cols"
      ],
      "execution_count": 37,
      "outputs": []
    },
    {
      "cell_type": "code",
      "metadata": {
        "id": "BsvB8hJAqrX6",
        "colab": {
          "base_uri": "https://localhost:8080/"
        },
        "outputId": "134dc912-d984-4bcf-c604-ecc990c4c877"
      },
      "source": [
        "img = np.array([[[[1, 2, 3, 4],  # 入力画像\n",
        "                  [5, 6, 7, 8],\n",
        "                  [9, 10,11,12],\n",
        "                  [13,14,15,16]]]])\n",
        "\n",
        "cols = im2col(img, 2, 2, 1, 0)  # 入力画像、フィルタの高さ、幅、ストライド、パディング幅\n",
        "print(cols)"
      ],
      "execution_count": 38,
      "outputs": [
        {
          "output_type": "stream",
          "name": "stdout",
          "text": [
            "[[ 1.  2.  3.  5.  6.  7.  9. 10. 11.]\n",
            " [ 2.  3.  4.  6.  7.  8. 10. 11. 12.]\n",
            " [ 5.  6.  7.  9. 10. 11. 13. 14. 15.]\n",
            " [ 6.  7.  8. 10. 11. 12. 14. 15. 16.]]\n"
          ]
        }
      ]
    },
    {
      "cell_type": "code",
      "source": [
        "cols = im2col(img, 2, 2, 1, 1)  # 入力画像、フィルタの高さ、幅、ストライド、パディング幅\n",
        "\n",
        "# (0,0,0,1) (16,0,0,0)がフィルター対象になっている\n",
        "# print(np.array2string(cols, separator='', max_line_width=1000))\n",
        "print(np.array2string(cols, max_line_width=1000))"
      ],
      "metadata": {
        "colab": {
          "base_uri": "https://localhost:8080/"
        },
        "id": "utRqY3JDnWkT",
        "outputId": "47260baf-337a-4c78-8af0-5f752a8f7088"
      },
      "execution_count": 39,
      "outputs": [
        {
          "output_type": "stream",
          "name": "stdout",
          "text": [
            "[[ 0.  0.  0.  0.  0.  0.  1.  2.  3.  4.  0.  5.  6.  7.  8.  0.  9. 10. 11. 12.  0. 13. 14. 15. 16.]\n",
            " [ 0.  0.  0.  0.  0.  1.  2.  3.  4.  0.  5.  6.  7.  8.  0.  9. 10. 11. 12.  0. 13. 14. 15. 16.  0.]\n",
            " [ 0.  1.  2.  3.  4.  0.  5.  6.  7.  8.  0.  9. 10. 11. 12.  0. 13. 14. 15. 16.  0.  0.  0.  0.  0.]\n",
            " [ 1.  2.  3.  4.  0.  5.  6.  7.  8.  0.  9. 10. 11. 12.  0. 13. 14. 15. 16.  0.  0.  0.  0.  0.  0.]]\n"
          ]
        }
      ]
    },
    {
      "cell_type": "markdown",
      "metadata": {
        "id": "NacDC-p7rcir"
      },
      "source": [
        "## ●畳み込みの実装\n",
        "im2colを使って、畳み込みを実装します。  \n",
        "今回は、scikit-learnから手書き文字の画像を読み込み、畳み込みを行います。"
      ]
    },
    {
      "cell_type": "code",
      "metadata": {
        "id": "EMGLkMRnro1B",
        "colab": {
          "base_uri": "https://localhost:8080/",
          "height": 669
        },
        "outputId": "8fe801fe-071b-4b1e-b702-88f27732d609"
      },
      "source": [
        "import matplotlib.pyplot as plt\n",
        "from sklearn import datasets\n",
        "\n",
        "digits = datasets.load_digits()\n",
        "print(digits.data.shape)\n",
        "print(digits.data[0])\n",
        "\n",
        "image = digits.data[0].reshape(8, 8)\n",
        "print(image)\n",
        "\n",
        "plt.imshow(image, cmap=\"gray\")\n",
        "plt.show()"
      ],
      "execution_count": 40,
      "outputs": [
        {
          "output_type": "stream",
          "name": "stdout",
          "text": [
            "(1797, 64)\n",
            "[ 0.  0.  5. 13.  9.  1.  0.  0.  0.  0. 13. 15. 10. 15.  5.  0.  0.  3.\n",
            " 15.  2.  0. 11.  8.  0.  0.  4. 12.  0.  0.  8.  8.  0.  0.  5.  8.  0.\n",
            "  0.  9.  8.  0.  0.  4. 11.  0.  1. 12.  7.  0.  0.  2. 14.  5. 10. 12.\n",
            "  0.  0.  0.  0.  6. 13. 10.  0.  0.  0.]\n",
            "[[ 0.  0.  5. 13.  9.  1.  0.  0.]\n",
            " [ 0.  0. 13. 15. 10. 15.  5.  0.]\n",
            " [ 0.  3. 15.  2.  0. 11.  8.  0.]\n",
            " [ 0.  4. 12.  0.  0.  8.  8.  0.]\n",
            " [ 0.  5.  8.  0.  0.  9.  8.  0.]\n",
            " [ 0.  4. 11.  0.  1. 12.  7.  0.]\n",
            " [ 0.  2. 14.  5. 10. 12.  0.  0.]\n",
            " [ 0.  0.  6. 13. 10.  0.  0.  0.]]\n"
          ]
        },
        {
          "output_type": "display_data",
          "data": {
            "text/plain": [
              "<Figure size 640x480 with 1 Axes>"
            ],
            "image/png": "[encoded data removed]"
          },
          "metadata": {}
        }
      ]
    },
    {
      "cell_type": "markdown",
      "metadata": {
        "id": "FusUZ8H6324Z"
      },
      "source": [
        "以下の、シンプルなim2colの関数を使います。"
      ]
    },
    {
      "cell_type": "code",
      "metadata": {
        "id": "mPJXdOVqrwiK"
      },
      "source": [
        "def im2col(img, flt_h, flt_w, out_h, out_w):  # 入力画像、フィルタの高さ、幅、出力画像の高さ、幅\n",
        "\n",
        "    cols = np.zeros((flt_h*flt_w, out_h*out_w)) # 生成される行列のサイズ\n",
        "\n",
        "    for h in range(out_h):\n",
        "        h_lim = h + flt_h  # h:フィルタがかかる領域の上端、h_lim:フィルタがかかる領域の下端\n",
        "        for w in range(out_w):\n",
        "            w_lim = w + flt_w  # w:フィルタがかかる領域の左端、w_lim:フィルタがかかる領域の右端\n",
        "            cols[:, h*out_w+w] = img[h:h_lim, w:w_lim].reshape(-1)\n",
        "\n",
        "    return cols"
      ],
      "execution_count": 41,
      "outputs": []
    },
    {
      "cell_type": "markdown",
      "metadata": {
        "id": "9plSdk5j4CSt"
      },
      "source": [
        "im2colで画像を行列に変換し、フィルタとの行列積により畳み込みを行います。"
      ]
    },
    {
      "cell_type": "code",
      "metadata": {
        "id": "zFGhFvYnr_of",
        "colab": {
          "base_uri": "https://localhost:8080/",
          "height": 430
        },
        "outputId": "b58ca01b-9387-46da-ee43-09ef49bc45ca"
      },
      "source": [
        "flt = np.array([[-1, 1, -1,],  # 縦の線を強調するフィルタ\n",
        "                [-1, 1, -1,],\n",
        "                [-1, 1, -1,]])\n",
        "flt_h, flt_w = flt.shape\n",
        "flt = flt.reshape(-1)  # 行数が1の行列\n",
        "\n",
        "img_h, img_w = image.shape  # 入力画像の高さ、幅\n",
        "out_h = img_h - flt_h + 1  # 出力画像の高さ（パディング無し、ストライド1）\n",
        "out_w = img_w - flt_w + 1  # 出力画像の幅（パディング無し、ストライド1）\n",
        "\n",
        "cols = im2col(image, flt_h, flt_w, out_h, out_w)\n",
        "\n",
        "image_out = np.dot(flt, cols)  # 畳み込み\n",
        "image_out = image_out.reshape(out_h, out_w)\n",
        "plt.imshow(image_out, cmap=\"gray\")\n",
        "plt.show()"
      ],
      "execution_count": 42,
      "outputs": [
        {
          "output_type": "display_data",
          "data": {
            "text/plain": [
              "<Figure size 640x480 with 1 Axes>"
            ],
            "image/png": "[encoded data removed]"
          },
          "metadata": {}
        }
      ]
    },
    {
      "cell_type": "markdown",
      "metadata": {
        "id": "mritI1XR5HL3"
      },
      "source": [
        "フィルタにより、縦の線が強調されました。  \n",
        "また、画像サイズが小さくなっていることも確認できます。  \n",
        "畳み込み層においては、このような畳み込みにより画像の特徴の抽出が行われます。  "
      ]
    }
  ]
}