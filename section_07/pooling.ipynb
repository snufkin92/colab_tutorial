{
  "nbformat": 4,
  "nbformat_minor": 0,
  "metadata": {
    "colab": {
      "provenance": [],
      "gpuType": "T4",
      "include_colab_link": true
    },
    "kernelspec": {
      "name": "python3",
      "display_name": "Python 3"
    },
    "accelerator": "GPU"
  },
  "cells": [
    {
      "cell_type": "markdown",
      "metadata": {
        "id": "view-in-github",
        "colab_type": "text"
      },
      "source": [
        "<a href=\"https://colab.research.google.com/github/snufkin92/colab_tutorial/blob/master/section_07/pooling.ipynb\" target=\"_parent\"><img src=\"https://colab.research.google.com/assets/colab-badge.svg\" alt=\"Open In Colab\"/></a>"
      ]
    },
    {
      "cell_type": "markdown",
      "metadata": {
        "id": "zCT6QD3F57HO"
      },
      "source": [
        "# ●プーリングの実装\n",
        "im2colを使ってプーリングを実装します。"
      ]
    },
    {
      "cell_type": "markdown",
      "metadata": {
        "id": "9VxoPcUXrnDI"
      },
      "source": [
        "## ●プーリングの実装\n",
        "im2colを使って、プーリングを実装します。  \n",
        "今回は、scikit-learnから手書き文字の画像を読み込み、畳み込みを行います。"
      ]
    },
    {
      "cell_type": "code",
      "metadata": {
        "id": "76iCvTtR54OH",
        "colab": {
          "base_uri": "https://localhost:8080/",
          "height": 448
        },
        "outputId": "153be258-9c9b-4a1b-9db2-6e48caba2d40"
      },
      "source": [
        "import numpy as np\n",
        "import matplotlib.pyplot as plt\n",
        "from sklearn import datasets\n",
        "\n",
        "digits = datasets.load_digits()\n",
        "print(digits.data.shape)\n",
        "\n",
        "image = digits.data[0].reshape(8, 8)\n",
        "plt.imshow(image, cmap=\"gray\")\n",
        "plt.show()"
      ],
      "execution_count": 10,
      "outputs": [
        {
          "output_type": "stream",
          "name": "stdout",
          "text": [
            "(1797, 64)\n"
          ]
        },
        {
          "output_type": "display_data",
          "data": {
            "text/plain": [
              "<Figure size 640x480 with 1 Axes>"
            ],
            "image/png": "[encoded data removed]"
          },
          "metadata": {}
        }
      ]
    },
    {
      "cell_type": "markdown",
      "metadata": {
        "id": "ImovKOU0u1Jf"
      },
      "source": [
        "今回は、以下のストライドを導入したim2colの関数を使います。  \n",
        "フィルタがかかる領域は、今回はプーリングの領域となります。  "
      ]
    },
    {
      "cell_type": "code",
      "metadata": {
        "id": "sxe9h1VZ5-he"
      },
      "source": [
        "def im2col(img, flt_h, flt_w, out_h, out_w, stride):  # 入力画像、プーリング領域の高さ、幅、出力画像の高さ、幅、ストライド\n",
        "\n",
        "    cols = np.zeros((flt_h*flt_w, out_h*out_w)) # 生成される行列のサイズ\n",
        "\n",
        "    for h in range(out_h):\n",
        "        h_lim = stride*h + flt_h  # h:プーリング領域の上端、h_lim:プーリング領域の下端\n",
        "        for w in range(out_w):\n",
        "            w_lim = stride*w + flt_w  # w:プーリング領域の左端、w_lim:プーリング領域の右端\n",
        "            cols[:, h*out_w+w] = img[stride*h:h_lim, stride*w:w_lim].reshape(-1)\n",
        "\n",
        "    return cols"
      ],
      "execution_count": 11,
      "outputs": []
    },
    {
      "cell_type": "markdown",
      "metadata": {
        "id": "dJ_xtTC4vJM5"
      },
      "source": [
        "im2colで画像を行列に変換し、フィルタとの行列積によりプーリングを行います。"
      ]
    },
    {
      "cell_type": "code",
      "source": [
        "print(digits.data[0].reshape(8, 8))"
      ],
      "metadata": {
        "colab": {
          "base_uri": "https://localhost:8080/"
        },
        "id": "_e8a7qr7wAH0",
        "outputId": "0ee3aecd-6ebc-48f4-cad3-2715677306c9"
      },
      "execution_count": 12,
      "outputs": [
        {
          "output_type": "stream",
          "name": "stdout",
          "text": [
            "[[ 0.  0.  5. 13.  9.  1.  0.  0.]\n",
            " [ 0.  0. 13. 15. 10. 15.  5.  0.]\n",
            " [ 0.  3. 15.  2.  0. 11.  8.  0.]\n",
            " [ 0.  4. 12.  0.  0.  8.  8.  0.]\n",
            " [ 0.  5.  8.  0.  0.  9.  8.  0.]\n",
            " [ 0.  4. 11.  0.  1. 12.  7.  0.]\n",
            " [ 0.  2. 14.  5. 10. 12.  0.  0.]\n",
            " [ 0.  0.  6. 13. 10.  0.  0.  0.]]\n"
          ]
        }
      ]
    },
    {
      "cell_type": "code",
      "metadata": {
        "id": "99xuMeZ6vOTv",
        "colab": {
          "base_uri": "https://localhost:8080/",
          "height": 655
        },
        "outputId": "9ac51836-5c97-4ed6-89b4-774c5664876c"
      },
      "source": [
        "img_h, img_w = image.shape  # 入力画像の高さ、幅\n",
        "pool = 2  # プーリング領域のサイズ\n",
        "\n",
        "out_h = img_h//pool  # 出力画像の高さ\n",
        "out_w = img_w//pool  # 出力画像の幅\n",
        "\n",
        "cols = im2col(image, pool, pool, out_h, out_w, pool)\n",
        "print(cols.shape)\n",
        "print(f\"im2col={cols}\")\n",
        "\n",
        "image_out = np.max(cols, axis=0)  # Maxプーリング\n",
        "print(image_out.shape)\n",
        "print(f\"max_pooling={image_out}\")\n",
        "\n",
        "image_out = image_out.reshape(out_h, out_w)\n",
        "print(image_out.shape)\n",
        "print(f\"reshape={image_out}\")\n",
        "\n",
        "plt.imshow(image_out, cmap=\"gray\")\n",
        "plt.show()"
      ],
      "execution_count": 13,
      "outputs": [
        {
          "output_type": "stream",
          "name": "stdout",
          "text": [
            "(4, 16)\n",
            "im2col=[[ 0.  5.  9.  0.  0. 15.  0.  8.  0.  8.  0.  8.  0. 14. 10.  0.]\n",
            " [ 0. 13.  1.  0.  3.  2. 11.  0.  5.  0.  9.  0.  2.  5. 12.  0.]\n",
            " [ 0. 13. 10.  5.  0. 12.  0.  8.  0. 11.  1.  7.  0.  6. 10.  0.]\n",
            " [ 0. 15. 15.  0.  4.  0.  8.  0.  4.  0. 12.  0.  0. 13.  0.  0.]]\n",
            "(16,)\n",
            "max_pooling=[ 0. 15. 15.  5.  4. 15. 11.  8.  5. 11. 12.  8.  2. 14. 12.  0.]\n",
            "(4, 4)\n",
            "reshape=[[ 0. 15. 15.  5.]\n",
            " [ 4. 15. 11.  8.]\n",
            " [ 5. 11. 12.  8.]\n",
            " [ 2. 14. 12.  0.]]\n"
          ]
        },
        {
          "output_type": "display_data",
          "data": {
            "text/plain": [
              "<Figure size 640x480 with 1 Axes>"
            ],
            "image/png": "[encoded data removed]"
          },
          "metadata": {}
        }
      ]
    },
    {
      "cell_type": "markdown",
      "metadata": {
        "id": "z4dA4CwyaGkB"
      },
      "source": [
        "各2x2の領域の最大値が抽出され、新たな画像となりました。  \n",
        "8x8の画像が、4x4の画像に変換されたことになります。\n"
      ]
    }
  ]
}