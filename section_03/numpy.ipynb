{
  "nbformat": 4,
  "nbformat_minor": 0,
  "metadata": {
    "kernelspec": {
      "display_name": "Python 3",
      "language": "python",
      "name": "python3"
    },
    "language_info": {
      "codemirror_mode": {
        "name": "ipython",
        "version": 3
      },
      "file_extension": ".py",
      "mimetype": "text/x-python",
      "name": "python",
      "nbconvert_exporter": "python",
      "pygments_lexer": "ipython3",
      "version": "3.5.4"
    },
    "colab": {
      "provenance": [],
      "include_colab_link": true
    }
  },
  "cells": [
    {
      "cell_type": "markdown",
      "metadata": {
        "id": "view-in-github",
        "colab_type": "text"
      },
      "source": [
        "<a href=\"https://colab.research.google.com/github/snufkin92/colab_tutorial/blob/master/section_03/numpy.ipynb\" target=\"_parent\"><img src=\"https://colab.research.google.com/assets/colab-badge.svg\" alt=\"Open In Colab\"/></a>"
      ]
    },
    {
      "cell_type": "markdown",
      "metadata": {
        "id": "8PEI59mRTLnr"
      },
      "source": [
        "# NumPyの基礎\n",
        "NumPyはPythonの拡張モジュールで、シンプルな表記で効率的なデータの操作を可能にします。  \n",
        "多次元配列を強力にサポートし、内部はC言語で実装されているため高速に動作します。   \n",
        "NumPyには様々な機能があるのですが、今回は本コースで使用する範囲のみ解説します。"
      ]
    },
    {
      "cell_type": "markdown",
      "metadata": {
        "id": "5e9PIBU6TLnt"
      },
      "source": [
        "## ●Numpyの導入"
      ]
    },
    {
      "cell_type": "markdown",
      "metadata": {
        "id": "eG_cxnskTLnt"
      },
      "source": [
        "Pythonでは、importの記述によりモジュールを導入することができます。  \n",
        "NumPyはモジュールなので、NumPyを使用するためには、コードの先頭に例えば以下のように記述します。  "
      ]
    },
    {
      "cell_type": "code",
      "metadata": {
        "id": "CWUJW65XTLnu"
      },
      "source": [
        "import numpy as np"
      ],
      "execution_count": 1,
      "outputs": []
    },
    {
      "cell_type": "markdown",
      "metadata": {
        "id": "7Flpz0G1TLnx"
      },
      "source": [
        "asを使うことでモジュールに別の名前をつけることができます。  \n",
        "このように記述すると、これ以降npという名前でNumPyのモジュールを扱うことができます。  "
      ]
    },
    {
      "cell_type": "markdown",
      "metadata": {
        "id": "Lfd5_xOHTLnx"
      },
      "source": [
        "## ●Numpyの配列\n",
        "\n",
        "人工知能の計算にはベクトルや行列を多用しますが、これらを表現するのにNumPyの配列を用います。  \n",
        "ベクトルや行列についてはのちのセクションで改めて解説しますが、ここではとりあえずNumPyの配列とは数値が折り重なって並んだもの、と考えていただければ十分です。  \n",
        "以降、単に配列と呼ぶ場合はNumPyの配列を指すことにします。  \n",
        "\n",
        "NumPyの配列は、NumPyのarray関数を使うことでPythonのリストから簡単に作ることができます。"
      ]
    },
    {
      "cell_type": "code",
      "metadata": {
        "id": "S4WV4FcFTLny",
        "colab": {
          "base_uri": "https://localhost:8080/"
        },
        "outputId": "e60fcaa0-29bd-424b-f6b0-937178bd0d20"
      },
      "source": [
        "import numpy as np\n",
        "\n",
        "a = np.array([0, 1, 2, 3, 4, 5])  # PythonのリストからNumPyの配列を作る\n",
        "print(a)"
      ],
      "execution_count": 2,
      "outputs": [
        {
          "output_type": "stream",
          "name": "stdout",
          "text": [
            "[0 1 2 3 4 5]\n"
          ]
        }
      ]
    },
    {
      "cell_type": "markdown",
      "metadata": {
        "id": "9WPpjCzCTLn1"
      },
      "source": [
        "このような配列が折り重なった、2次元の配列を作ることもできます。  \n",
        "2次元配列は、要素がリストであるリスト（2重のリスト）から作ります。"
      ]
    },
    {
      "cell_type": "code",
      "metadata": {
        "id": "cbm07F22TLn2",
        "colab": {
          "base_uri": "https://localhost:8080/"
        },
        "outputId": "2cd3d86f-77fd-4d60-f1ab-e16e2ab9e181"
      },
      "source": [
        "import numpy as np\n",
        "\n",
        "b = np.array([[0, 1, 2], [3, 4, 5]])  # 2重のリストからNumPyの2次元配列を作る\n",
        "print(b)"
      ],
      "execution_count": 3,
      "outputs": [
        {
          "output_type": "stream",
          "name": "stdout",
          "text": [
            "[[0 1 2]\n",
            " [3 4 5]]\n"
          ]
        }
      ]
    },
    {
      "cell_type": "markdown",
      "metadata": {
        "id": "0GJVCigITLn4"
      },
      "source": [
        "同様に、3次元の配列も作ることができます。  \n",
        "3次元配列は2次元の配列がさらに折り重なったもので、3重のリストから作ります。"
      ]
    },
    {
      "cell_type": "code",
      "metadata": {
        "id": "4p3lrbpbTLn5",
        "colab": {
          "base_uri": "https://localhost:8080/"
        },
        "outputId": "882d88d8-0aa5-4a2a-82c7-50b8dd10d407"
      },
      "source": [
        "import numpy as np\n",
        "\n",
        "c = np.array([[[0, 1, 2], [3, 4, 5]], [[5, 4, 3], [2, 1, 0]]])  # 3重のリストからNumPyの3次元配列を作る\n",
        "print(c)"
      ],
      "execution_count": 4,
      "outputs": [
        {
          "output_type": "stream",
          "name": "stdout",
          "text": [
            "[[[0 1 2]\n",
            "  [3 4 5]]\n",
            "\n",
            " [[5 4 3]\n",
            "  [2 1 0]]]\n"
          ]
        }
      ]
    },
    {
      "cell_type": "markdown",
      "metadata": {
        "id": "RyoE4NnoTLn7"
      },
      "source": [
        "## ●配列の演算\n",
        "\n",
        "以下の例では、配列と数値の間で演算を行なっています。  \n",
        "この場合、配列の各要素と数値の間で演算が行われます。"
      ]
    },
    {
      "cell_type": "code",
      "metadata": {
        "id": "M9b6D0t2TLn8",
        "colab": {
          "base_uri": "https://localhost:8080/"
        },
        "outputId": "b57a2030-a612-48d4-bdc5-8baaced4eb4f"
      },
      "source": [
        "import numpy as np\n",
        "\n",
        "a = np.array([[0, 1, 2], [3, 4, 5]])  # 2次元配列\n",
        "\n",
        "print(a)\n",
        "print()\n",
        "print(a + 3)  # 各要素に3を足す\n",
        "print()\n",
        "print(a * 3)  # 各要素に3をかける"
      ],
      "execution_count": 5,
      "outputs": [
        {
          "output_type": "stream",
          "name": "stdout",
          "text": [
            "[[0 1 2]\n",
            " [3 4 5]]\n",
            "\n",
            "[[3 4 5]\n",
            " [6 7 8]]\n",
            "\n",
            "[[ 0  3  6]\n",
            " [ 9 12 15]]\n"
          ]
        }
      ]
    },
    {
      "cell_type": "markdown",
      "metadata": {
        "id": "ETHgZASbTLn-"
      },
      "source": [
        "また、以下は配列同士の演算の例です。  \n",
        "この場合は同じ位置の各要素同士で演算が行われます。"
      ]
    },
    {
      "cell_type": "code",
      "metadata": {
        "id": "f-P72aAATLn_",
        "colab": {
          "base_uri": "https://localhost:8080/"
        },
        "outputId": "787d1041-0210-4c59-9c59-8914ab05aa47"
      },
      "source": [
        "b = np.array([[0, 1, 2], [3, 4, 5]])  # 2次元配列\n",
        "c = np.array([[2, 0, 1], [5, 3, 4]])  # 2次元配列\n",
        "\n",
        "print(b)\n",
        "print()\n",
        "print(c)\n",
        "print()\n",
        "print(b + c)\n",
        "print()\n",
        "print(b * c)"
      ],
      "execution_count": 6,
      "outputs": [
        {
          "output_type": "stream",
          "name": "stdout",
          "text": [
            "[[0 1 2]\n",
            " [3 4 5]]\n",
            "\n",
            "[[2 0 1]\n",
            " [5 3 4]]\n",
            "\n",
            "[[2 1 3]\n",
            " [8 7 9]]\n",
            "\n",
            "[[ 0  0  2]\n",
            " [15 12 20]]\n"
          ]
        }
      ]
    },
    {
      "cell_type": "markdown",
      "metadata": {
        "id": "jtTr0asBTLoA"
      },
      "source": [
        "ブロードキャストという機能により、特定の条件を満たしていれば形状の異なる配列同士でも演算が可能です。"
      ]
    },
    {
      "cell_type": "code",
      "metadata": {
        "id": "6lDdx3tRTLoB",
        "colab": {
          "base_uri": "https://localhost:8080/"
        },
        "outputId": "6dd3e888-d0dc-4196-cf8e-ad69e4112716"
      },
      "source": [
        "d = np.array([[1, 1],\n",
        "              [1, 1]])  # 2次元配列\n",
        "e = np.array([1, 2])  # 1次元配列\n",
        "\n",
        "# 行、列などある軸が同じであれば軸にそって計算してくれる\n",
        "print(d + e)"
      ],
      "execution_count": 7,
      "outputs": [
        {
          "output_type": "stream",
          "name": "stdout",
          "text": [
            "[[2 3]\n",
            " [2 3]]\n"
          ]
        }
      ]
    },
    {
      "cell_type": "code",
      "source": [
        "e1= np.array([[1, 2],[3,4]])\n",
        "\n",
        "print(d + e1)"
      ],
      "metadata": {
        "colab": {
          "base_uri": "https://localhost:8080/"
        },
        "id": "81rgdWUh7EvH",
        "outputId": "0b4ca917-7384-40fa-c391-e0a9b015681e"
      },
      "execution_count": 8,
      "outputs": [
        {
          "output_type": "stream",
          "name": "stdout",
          "text": [
            "[[2 3]\n",
            " [4 5]]\n"
          ]
        }
      ]
    },
    {
      "cell_type": "markdown",
      "metadata": {
        "id": "U0i_YVmnTLoD"
      },
      "source": [
        "*ブロードキャストの厳密なルールは少々複雑で、全て記述すると長くなってしまうので、今回は本コースで必要な範囲のみ解説しました。*"
      ]
    },
    {
      "cell_type": "markdown",
      "metadata": {
        "id": "_MgpaIvqTLoE"
      },
      "source": [
        "## ●形状の変換\n",
        "NumPyのshapeメソッドにより、配列の形状を得ることができます。  "
      ]
    },
    {
      "cell_type": "code",
      "metadata": {
        "id": "2A-NU9z1TLoE",
        "colab": {
          "base_uri": "https://localhost:8080/"
        },
        "outputId": "154f28f4-8531-4d9a-d22c-6182536609f9"
      },
      "source": [
        "import numpy as np\n",
        "\n",
        "a = np.array([[0, 1, 2],\n",
        "            [3, 4, 5]])\n",
        "\n",
        "print(a.shape)"
      ],
      "execution_count": 9,
      "outputs": [
        {
          "output_type": "stream",
          "name": "stdout",
          "text": [
            "(2, 3)\n"
          ]
        }
      ]
    },
    {
      "cell_type": "markdown",
      "metadata": {
        "id": "PsdkpN7UTLoG"
      },
      "source": [
        "reshapeメソッドを使うと、配列の形状を変換することができます。  \n",
        "以下の例では、要素数が8の1次元配列を 形状が(2, 4)の2次元配列に変換しています。  "
      ]
    },
    {
      "cell_type": "code",
      "metadata": {
        "id": "onsdEGMSTLoH",
        "colab": {
          "base_uri": "https://localhost:8080/"
        },
        "outputId": "5ab1e7e6-c3dd-4037-88f5-a410010394f5"
      },
      "source": [
        "b = np.array([0, 1, 2, 3, 4, 5, 6, 7])    # 配列の作成\n",
        "c = b.reshape(2, 4)                       # (2, 4)の2次元配列に変換\n",
        "print(c)"
      ],
      "execution_count": 10,
      "outputs": [
        {
          "output_type": "stream",
          "name": "stdout",
          "text": [
            "[[0 1 2 3]\n",
            " [4 5 6 7]]\n"
          ]
        }
      ]
    },
    {
      "cell_type": "markdown",
      "metadata": {
        "id": "99Rq7OhTTLoJ"
      },
      "source": [
        "reshapeの引数を-1にすることで、どのような形状の配列でも1次元配列に変換することができます。"
      ]
    },
    {
      "cell_type": "code",
      "metadata": {
        "id": "_YZ2URRNTLoJ",
        "colab": {
          "base_uri": "https://localhost:8080/"
        },
        "outputId": "f05035e8-e332-4ed3-9718-f830bf7c9deb"
      },
      "source": [
        "d = np.array([[[0, 1, 2],\n",
        "                   [3, 4, 5]],\n",
        "\n",
        "                  [[5, 4, 3],\n",
        "                   [2, 1, 0]]])  # 3重のリストからNumPyの3次元配列を作る\n",
        "\n",
        "\n",
        "e = d.reshape(-1)\n",
        "print(e)"
      ],
      "execution_count": 11,
      "outputs": [
        {
          "output_type": "stream",
          "name": "stdout",
          "text": [
            "[0 1 2 3 4 5 5 4 3 2 1 0]\n"
          ]
        }
      ]
    },
    {
      "cell_type": "markdown",
      "metadata": {
        "id": "neEBCIjkTLoL"
      },
      "source": [
        "## ●要素へのアクセス"
      ]
    },
    {
      "cell_type": "markdown",
      "metadata": {
        "id": "DFpo1tr0TLoM"
      },
      "source": [
        "配列の各要素へのアクセスは、リストの場合と同様にインデックスを利用します。  \n",
        "一次元配列の場合、以下のように`[ ]`内にインデックスを指定することで、要素を取り出すことができます。"
      ]
    },
    {
      "cell_type": "code",
      "metadata": {
        "id": "oZNEQLbjTLoM",
        "colab": {
          "base_uri": "https://localhost:8080/"
        },
        "outputId": "30afd9cc-cd21-4017-cd49-825c6fad9f21"
      },
      "source": [
        "import numpy as np\n",
        "\n",
        "a = np.array([0, 1, 2, 3, 4, 5])\n",
        "print(a[2])"
      ],
      "execution_count": 12,
      "outputs": [
        {
          "output_type": "stream",
          "name": "stdout",
          "text": [
            "2\n"
          ]
        }
      ]
    },
    {
      "cell_type": "markdown",
      "metadata": {
        "id": "UF8HmYGYTLoO"
      },
      "source": [
        "この場合は、先頭から0,1,2...とインデックスをつけた場合の、インデックスが2要素を取り出しています。  \n",
        "また、リストの場合と同様に、インデックスを指定して要素を入れ替えることができます。"
      ]
    },
    {
      "cell_type": "code",
      "metadata": {
        "id": "c-vfLZ49TLoP",
        "colab": {
          "base_uri": "https://localhost:8080/"
        },
        "outputId": "081a7f25-718c-451c-ba70-ad83b9b02905"
      },
      "source": [
        "a[2] = 9\n",
        "print(a)"
      ],
      "execution_count": 13,
      "outputs": [
        {
          "output_type": "stream",
          "name": "stdout",
          "text": [
            "[0 1 9 3 4 5]\n"
          ]
        }
      ]
    },
    {
      "cell_type": "markdown",
      "metadata": {
        "id": "xGQ4gl3nTLoR"
      },
      "source": [
        "この場合は、インデックスが2の要素を9に置き換えています。  \n",
        "\n",
        "2次元配列の場合、要素を取り出す際にはインデックスを縦横で2つ指定します。  \n",
        "`,`（カンマ）区切りでインデックスを並べることも、インデックスを入れた`[ ]`を2つ並べることもできます。  "
      ]
    },
    {
      "cell_type": "code",
      "metadata": {
        "id": "oLGquZxlTLoS",
        "colab": {
          "base_uri": "https://localhost:8080/"
        },
        "outputId": "964ad80c-b472-4556-8807-f21675b68320"
      },
      "source": [
        "b = np.array([[0, 1, 2],\n",
        "              [3, 4, 5]])\n",
        "\n",
        "print(b[1, 2])  # b[1][2]と同じ"
      ],
      "execution_count": 14,
      "outputs": [
        {
          "output_type": "stream",
          "name": "stdout",
          "text": [
            "5\n"
          ]
        }
      ]
    },
    {
      "cell_type": "markdown",
      "metadata": {
        "id": "e78N2fZLTLoU"
      },
      "source": [
        "縦のインデックスが1、横のインデックスが2の要素を取り出すことができました。  \n",
        "要素を入れ替える際も、同様にインデックスを2つ指定します。"
      ]
    },
    {
      "cell_type": "code",
      "metadata": {
        "id": "5lyArOvLTLoU",
        "colab": {
          "base_uri": "https://localhost:8080/"
        },
        "outputId": "d000ab1d-b372-480e-ae39-6bea2c50f54b"
      },
      "source": [
        "b[1, 2] = 9\n",
        "\n",
        "print(b)"
      ],
      "execution_count": 15,
      "outputs": [
        {
          "output_type": "stream",
          "name": "stdout",
          "text": [
            "[[0 1 2]\n",
            " [3 4 9]]\n"
          ]
        }
      ]
    },
    {
      "cell_type": "markdown",
      "metadata": {
        "id": "uw-3SmU2TLoW"
      },
      "source": [
        "2つのインデックスで指定した要素が入れ替わりました。  \n",
        "3次元以上の配列の場合も同様に、インデックスを複数指定することで要素にアクセスすることができます。"
      ]
    },
    {
      "cell_type": "markdown",
      "metadata": {
        "id": "lL0W945_TLoX"
      },
      "source": [
        "## ●関数と配列\n",
        "\n",
        "関数の引数や返り値としてNumPyの配列を使うことができます。  \n",
        "以下の関数`my_func`は、引数として配列を受け取り、返り値として配列を返しています。"
      ]
    },
    {
      "cell_type": "code",
      "metadata": {
        "id": "Z4ZAV9uPTLoY",
        "colab": {
          "base_uri": "https://localhost:8080/"
        },
        "outputId": "aec813d9-fa22-41ac-deaa-e47f1908303e"
      },
      "source": [
        "import numpy as np\n",
        "\n",
        "def my_func(x):\n",
        "    y = x * 2 + 1\n",
        "    return y\n",
        "\n",
        "a = np.array([[0, 1, 2],\n",
        "              [3, 4, 5]])  # 2次元配列\n",
        "b = my_func(a)  # 引数として配列を渡す\n",
        "\n",
        "print(b)"
      ],
      "execution_count": 16,
      "outputs": [
        {
          "output_type": "stream",
          "name": "stdout",
          "text": [
            "[[ 1  3  5]\n",
            " [ 7  9 11]]\n"
          ]
        }
      ]
    },
    {
      "cell_type": "markdown",
      "metadata": {
        "id": "35WMwtyMTLob"
      },
      "source": [
        "## ●NumPyの様々な機能\n",
        "\n",
        "sumにより合計、averageにより平均、maxにより最大値、minにより最小値を得ることができます。"
      ]
    },
    {
      "cell_type": "code",
      "metadata": {
        "id": "I1S-WU0RTLoc",
        "colab": {
          "base_uri": "https://localhost:8080/"
        },
        "outputId": "39405e52-7809-4d7c-e9b3-28a6881833dc"
      },
      "source": [
        "import numpy as np\n",
        "\n",
        "a = np.array([[0, 1, 2],\n",
        "              [3, 4, 5]])  # 2次元配列\n",
        "\n",
        "print(np.sum(a))\n",
        "print(np.average(a))\n",
        "print(np.max(a))\n",
        "print(np.min(a))"
      ],
      "execution_count": 17,
      "outputs": [
        {
          "output_type": "stream",
          "name": "stdout",
          "text": [
            "15\n",
            "2.5\n",
            "5\n",
            "0\n"
          ]
        }
      ]
    },
    {
      "cell_type": "markdown",
      "metadata": {
        "id": "JaroffHQTLoe"
      },
      "source": [
        "引数にaxisを指定すると、特定の方向で演算を行うことができます。"
      ]
    },
    {
      "cell_type": "code",
      "metadata": {
        "id": "rBNNXI20TLof",
        "colab": {
          "base_uri": "https://localhost:8080/"
        },
        "outputId": "113bb11b-d5bd-4b47-e38e-adf30beb288d"
      },
      "source": [
        "import numpy as np\n",
        "\n",
        "b = np.array([[0, 1, 2],\n",
        "              [3, 4, 5]])  # 2次元配列\n",
        "\n",
        "print(np.sum(b, axis=0))  # 縦方向で合計\n",
        "print(np.sum(b, axis=1))  # 横方向で合計"
      ],
      "execution_count": 18,
      "outputs": [
        {
          "output_type": "stream",
          "name": "stdout",
          "text": [
            "[3 5 7]\n",
            "[ 3 12]\n"
          ]
        }
      ]
    }
  ]
}